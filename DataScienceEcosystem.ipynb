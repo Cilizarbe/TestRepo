{
 "cells": [
  {
   "cell_type": "markdown",
   "id": "c3723a76-de35-43a2-a416-f85afb0290f0",
   "metadata": {},
   "source": [
    "# Data Science Tools and Ecosystem"
   ]
  },
  {
   "cell_type": "markdown",
   "id": "79752535-d5fb-427b-9a7f-301b63e98248",
   "metadata": {},
   "source": [
    "In this notebook, Data Science Tools and Ecosystem are summarized."
   ]
  },
  {
   "cell_type": "markdown",
   "id": "edce3d43-cd99-4ca7-bdfa-b1a6b853a582",
   "metadata": {},
   "source": [
    "**Objectives:**\n",
    "\n",
    "- List popular languages for Data Science  \n",
    "- Identify commonly used libraries in Data Science  \n",
    "- Create simple Markdown and code cells in Jupyter Notebook  \n",
    "- Use basic Python operations for data manipulation  \n",
    "- Understand how to document work using Markdown  \n"
   ]
  },
  {
   "cell_type": "markdown",
   "id": "6bfcea0a-bf8d-4a7d-b12f-64fd503602cb",
   "metadata": {},
   "source": [
    "Some of the commonly used libraries used by Data Scientists include:\n",
    "\n",
    "1) Python.\n",
    "2) R.\n",
    "3) SQL."
   ]
  },
  {
   "cell_type": "markdown",
   "id": "99f1ebfc-64dd-4c4f-8e77-0f77f654943e",
   "metadata": {},
   "source": [
    "Some of the commonly used libraries used by Data Scientists include:\n",
    "\n",
    "1) Pandas\n",
    "2) NumPy\n",
    "3) Matplotlib"
   ]
  },
  {
   "cell_type": "markdown",
   "id": "bfd36b44-3af2-4e57-9943-d6897bc3a0b7",
   "metadata": {},
   "source": [
    "| Data Science Tools       |\n",
    "|--------------------------|\n",
    "| Jupyter Notebook         |\n",
    "| RStudio                  |\n",
    "| Apache Spark             |"
   ]
  },
  {
   "cell_type": "markdown",
   "id": "4feef307-6647-4807-be1a-e33a5a48688a",
   "metadata": {},
   "source": [
    "### Below are a few examples of evaluating arithmetic expressions in Python"
   ]
  },
  {
   "cell_type": "markdown",
   "id": "f24186c5-2bbf-41a8-be24-c1bc00cd0980",
   "metadata": {},
   "source": [
    "This a simple arithmetic expression to mutiply then add integers"
   ]
  },
  {
   "cell_type": "code",
   "execution_count": 5,
   "id": "08bfc53b-549c-44bc-a1fd-8bc7638aa8b0",
   "metadata": {},
   "outputs": [
    {
     "data": {
      "text/plain": [
       "17"
      ]
     },
     "execution_count": 5,
     "metadata": {},
     "output_type": "execute_result"
    }
   ],
   "source": [
    "(3*4)+5"
   ]
  },
  {
   "cell_type": "markdown",
   "id": "dd233ba2-5f10-4cd5-b9f9-52de93b23db9",
   "metadata": {},
   "source": [
    "This will convert 200 minutes to hours by diving by 60"
   ]
  },
  {
   "cell_type": "code",
   "execution_count": 7,
   "id": "7dd309e3-3d60-408c-aa2f-b30fd95fe891",
   "metadata": {},
   "outputs": [
    {
     "name": "stdout",
     "output_type": "stream",
     "text": [
      "3.3333333333333335\n"
     ]
    }
   ],
   "source": [
    "minutos = 200\n",
    "horas = minutos / 60\n",
    "print(horas)"
   ]
  },
  {
   "cell_type": "markdown",
   "id": "463542ba-5adc-4c09-b22e-cd6e8aae93a6",
   "metadata": {},
   "source": [
    "## Author\n",
    "\n",
    "Carlos Eduardo Ilizarbe Sulca\n"
   ]
  },
  {
   "cell_type": "code",
   "execution_count": null,
   "id": "22c749c8-12df-4d07-8422-7085e173d05a",
   "metadata": {},
   "outputs": [],
   "source": []
  }
 ],
 "metadata": {
  "kernelspec": {
   "display_name": "Python 3 (ipykernel)",
   "language": "python",
   "name": "python3"
  },
  "language_info": {
   "codemirror_mode": {
    "name": "ipython",
    "version": 3
   },
   "file_extension": ".py",
   "mimetype": "text/x-python",
   "name": "python",
   "nbconvert_exporter": "python",
   "pygments_lexer": "ipython3",
   "version": "3.12.8"
  }
 },
 "nbformat": 4,
 "nbformat_minor": 5
}
